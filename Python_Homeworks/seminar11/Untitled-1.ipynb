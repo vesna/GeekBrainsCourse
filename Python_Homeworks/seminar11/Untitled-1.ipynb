{
 "cells": [
  {
   "cell_type": "code",
   "execution_count": 10,
   "metadata": {},
   "outputs": [
    {
     "name": "stdout",
     "output_type": "stream",
     "text": [
      "    570 |                                                      /\n",
      "        |                                                     . \n",
      "        |                                                       \n",
      "        |                                                    .  \n",
      "        |                                                   /   \n",
      "        |                                                  /    \n",
      "        |                                                 /     \n",
      "        |\\                                               /      \n",
      "        | \\                                             /       \n",
      "        |  \\                                           /        \n",
      "    270 |---\\-----------------------------------------/---------\n",
      "        |    \\                                       /          \n",
      "        |     \\                                     /           \n",
      "        |      ..                                  /            \n",
      "        |        \\                                /             \n",
      "        |         ..                            ..              \n",
      "        |           \\                         ..                \n",
      "        |            ..                      /                  \n",
      "        |              ..                 ...                   \n",
      "        |                ...           ...                      \n",
      "    -30 |_______________________________________________________\n",
      "         -10                        0                          10\n",
      "-1 + sqrt(7) -sqrt(7) - 1\n",
      "10*x + 10\n"
     ]
    },
    {
     "data": {
      "text/plain": [
       "'Прочесть с помощью pandas файл california_housing_test.csv, который находится в папке sample_data\\nПосмотреть сколько в нем строк и столбцов\\nОпределить какой тип данных имеют столбцы'"
      ]
     },
     "execution_count": 10,
     "metadata": {},
     "output_type": "execute_result"
    }
   ],
   "source": [
    "'''Дана функция f(x) = 5x^2 + 10x - 30\n",
    "Определить корни\n",
    "Найти интервалы, на которых функция возрастает\n",
    "Найти интервалы, на которых функция убывает\n",
    "Построить график\n",
    "Вычислить вершину\n",
    "Определить промежутки, на котором f > 0\n",
    "Определить промежутки, на котором f < 0'''\n",
    "import math\n",
    "from sympy import*\n",
    "from sympy.plotting import plot\n",
    "x = Symbol('x')\n",
    "fx = 5*x**2+10*x-30\n",
    "fx\n",
    "p = plot(fx,(x,-10,10))\n",
    "sqrt_1,sqrt_2 = solve(fx)\n",
    "print(sqrt_1,sqrt_2)\n",
    "pr = diff(fx)\n",
    "print(pr)\n",
    "apex = solve(diff(fx))[0]\n",
    "solve(diff(fx) > 0)\n",
    "solve(diff(fx) < 0)\n",
    "solve(fx > 0)\n",
    "solve(fx < 0)\n",
    "\n",
    "\n",
    "'''Прочесть с помощью pandas файл california_housing_test.csv, который находится в папке sample_data\n",
    "Посмотреть сколько в нем строк и столбцов\n",
    "Определить какой тип данных имеют столбцы'''\n",
    "# import pandas as pd\n",
    "\n",
    "# df = pd.read_csv('C:/flash/california_housing_test.csv')\n",
    "\n",
    "# print(df)"
   ]
  }
 ],
 "metadata": {
  "kernelspec": {
   "display_name": ".folder",
   "language": "python",
   "name": "python3"
  },
  "language_info": {
   "codemirror_mode": {
    "name": "ipython",
    "version": 3
   },
   "file_extension": ".py",
   "mimetype": "text/x-python",
   "name": "python",
   "nbconvert_exporter": "python",
   "pygments_lexer": "ipython3",
   "version": "3.11.7"
  }
 },
 "nbformat": 4,
 "nbformat_minor": 2
}
