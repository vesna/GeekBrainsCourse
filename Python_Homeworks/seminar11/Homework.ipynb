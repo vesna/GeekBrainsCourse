{
 "cells": [
  {
   "cell_type": "code",
   "execution_count": 13,
   "metadata": {},
   "outputs": [
    {
     "name": "stdout",
     "output_type": "stream",
     "text": [
      "206683.83635227982\n"
     ]
    },
    {
     "data": {
      "text/plain": [
       "'Задача 42: Узнать какая максимальная households в зоне минимального значения population'"
      ]
     },
     "execution_count": 13,
     "metadata": {},
     "output_type": "execute_result"
    }
   ],
   "source": [
    "'''f(x) = -12x^4 - 18x^3+5x^2 + 10x - 30\n",
    "Определить корни\n",
    "Найти интервалы, на которых функция возрастает\n",
    "Найти интервалы, на которых функция убывает\n",
    "Построить график\n",
    "Вычислить вершину\n",
    "Определить промежутки, на котором f > 0\n",
    "Определить промежутки, на котором f < 0\n",
    "# '''\n",
    "#import math\n",
    "# from sympy import*\n",
    "# from sympy.plotting import plot\n",
    "# x = Symbol('x')\n",
    "# fx = 12*x**4-18*x**3+5*x**2+10*x-30\n",
    "# fx\n",
    "# p = plot(fx, (x, -200, 200)) #Построить график\n",
    "# sqrt_1,sqrt_2,sqrt_3,sqrt_4 = solve(fx)\n",
    "# print(sqrt_1,sqrt_2,sqrt_3,sqrt_4)\n",
    "# pr = diff(fx) ##Вычислить вершину\n",
    "# print(pr)\n",
    "# apex = solve(diff(fx))[0]\n",
    "# solve(diff(fx) > 0) #Определить промежутки, на котором f > 0\n",
    "# solve(diff(fx) < 0) #Определить промежутки, на котором f < 0\n",
    "# solve(fx > 0) ##Найти интервалы, на которых функция возрастает\n",
    "# solve(fx < 0) #Найти интервалы, на которых функция убывает\n",
    "\n",
    "'''Задача 40: Работать с файлом california_housing_train.csv, который находится в папке sample_data. \n",
    "Определить среднюю стоимость дома, где кол-во людей от 0 до 500 (popution)la'''\n",
    "\n",
    "# import pandas as pd\n",
    "# df = pd.read_csv('california_housing_train.csv')\n",
    "# mask = (df['population']>0)&(df['population']<500)\n",
    "# filter = df[mask]\n",
    "# avg = filter['medianHouseValue'].mean()\n",
    "# print(avg)\n",
    "\n",
    "'''Задача 42: Узнать какая максимальная households в зоне минимального значения population'''\n",
    "# import pandas as pd\n",
    "# df = pd.read_csv('california_housing_train.csv')\n",
    "# print(df)\n",
    "# min = df['population'].min()\n",
    "# max = df[df['population'] == min]['households'].max()\n",
    "# print(max)"
   ]
  }
 ],
 "metadata": {
  "kernelspec": {
   "display_name": ".venv",
   "language": "python",
   "name": "python3"
  },
  "language_info": {
   "codemirror_mode": {
    "name": "ipython",
    "version": 3
   },
   "file_extension": ".py",
   "mimetype": "text/x-python",
   "name": "python",
   "nbconvert_exporter": "python",
   "pygments_lexer": "ipython3",
   "version": "3.11.7"
  }
 },
 "nbformat": 4,
 "nbformat_minor": 2
}
